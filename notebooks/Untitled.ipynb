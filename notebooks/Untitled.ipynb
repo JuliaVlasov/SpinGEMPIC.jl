{
 "cells": [
  {
   "cell_type": "code",
   "execution_count": 10,
   "metadata": {
    "collapsed": false
   },
   "outputs": [
    {
     "ename": "SyntaxError",
     "evalue": "invalid syntax (<ipython-input-10-f3f437a641d6>, line 7)",
     "output_type": "error",
     "traceback": [
      "\u001b[0;36m  File \u001b[0;32m\"<ipython-input-10-f3f437a641d6>\"\u001b[0;36m, line \u001b[0;32m7\u001b[0m\n\u001b[0;31m    for i = 1:n\u001b[0m\n\u001b[0m          ^\u001b[0m\n\u001b[0;31mSyntaxError\u001b[0m\u001b[0;31m:\u001b[0m invalid syntax\n"
     ]
    }
   ],
   "source": [
    "#using Plots\n",
    "\n",
    "n = 10000\n",
    "v1 = zeros(1,n)\n",
    "v2 = zeros(1,n)\n",
    "v3 = zeros(1,n)\n",
    "for i = 1:n\n",
    "    v = [0, 0, 0]  # initialize so we go into the while loop\n",
    "\n",
    "    while norm(v) < .0001\n",
    "        x = randn()  # random standard normal\n",
    "        y = randn()\n",
    "        z = randn()\n",
    "        v = [x, y, z]\n",
    "    end\n",
    "    \n",
    "    v = v / norm(v)  # normalize to unit norm\n",
    "    v1[i] = v[1]\n",
    "    v2[i] = v[2]\n",
    "    v3[i] = v[3]\n",
    "end\n",
    "scatter(v1,v2,v3)"
   ]
  },
  {
   "cell_type": "code",
   "execution_count": null,
   "metadata": {
    "collapsed": true
   },
   "outputs": [],
   "source": []
  }
 ],
 "metadata": {
  "anaconda-cloud": {},
  "kernelspec": {
   "display_name": "Python [default]",
   "language": "python",
   "name": "python2"
  },
  "language_info": {
   "codemirror_mode": {
    "name": "ipython",
    "version": 2
   },
   "file_extension": ".py",
   "mimetype": "text/x-python",
   "name": "python",
   "nbconvert_exporter": "python",
   "pygments_lexer": "ipython2",
   "version": "2.7.12"
  }
 },
 "nbformat": 4,
 "nbformat_minor": 1
}
