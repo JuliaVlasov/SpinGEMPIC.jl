{
 "cells": [
  {
   "cell_type": "code",
   "execution_count": null,
   "metadata": {},
   "outputs": [],
   "source": [
    "using JLD2\n",
    "using JLD\n",
    "using FileIO\n",
    "using CSV\n",
    "using LaTeXStrings\n",
    "using Plots\n",
    "using FFTW"
   ]
  },
  {
   "cell_type": "code",
   "execution_count": 28,
   "metadata": {},
   "outputs": [
    {
     "name": "stdout",
     "output_type": "stream",
     "text": [
      "kmax = findmax(abs.(ftmp)[1:200]) = (4635.398105271466, 77)\n",
      "(77 * 2 * 3.1415) / 50.0 = 9.675820000000002\n"
     ]
    },
    {
     "data": {
      "text/plain": [
       "9.675820000000002"
      ]
     },
     "execution_count": 28,
     "metadata": {},
     "output_type": "execute_result"
    }
   ],
   "source": [
    "frame = CSV.read(\"frame.csv\");\n",
    "tmp1=frame[!,:KineticEnergy];\n",
    "ftmp1=fft(tmp1)./50000;\n",
    "ftmp1[1]=0.;\n",
    "plot(abs.(ftmp1[1:1000]),xlabel=\"freq\",ylabel=\"spectrum kinetic energy\",legend=false)\n",
    "#savefig(\"Kinetic_spectrum_dirac.png\")\n",
    "\n",
    "tmp2=frame[!,:PotentialEnergyE2];\n",
    "ftmp2=fft(tmp2)./50000;\n",
    "ftmp2[1]=0.;\n",
    "#@show kmax=findmax(abs.(ftmp)[1:200])\n",
    "#@show 77*2*3.1415/50.\n",
    "plot(abs.(ftmp2[1:1000])./50000,xlabel=\"freq\",ylabel=\"spectrum Ex energy\",legend=false)\n",
    "#savefig(\"Ex_spectrum_dirac.png\")\n",
    "\n",
    "tmp3=frame[!,:Kineticspin];\n",
    "ftmp3=fft(tmp3)./50000;\n",
    "ftmp3[1]=0.;\n",
    "#@show kmax=findmax(abs.(ftmp)[1:200])\n",
    "#@show 77*2*3.1415/50.\n",
    "plot(abs.(ftmp3[1:1000]),xlabel=\"freq\",ylabel=\"spectrum Spin energy\",legend=false)\n",
    "#savefig(\"Spin_spectrum_dirac.png\")\n",
    "\n",
    "tmp1=frame[!,:Momentum1];\n",
    "ftmp1=fft(tmp1)./50000;\n",
    "ftmp1[1]=0.;\n",
    "#@show kmax=findmax(abs.(ftmp)[1:200])\n",
    "#@show 77*2*3.1415/50.\n",
    "plot(abs.(ftmp1[1:1000]),xlabel=\"freq\",ylabel=\"Ex energy\",legend=false)\n",
    "#savefig(\"Ex_spectrum_dirac.png\")\n",
    "\n",
    "tmp1=frame[!,:PotentialEnergyE2];\n",
    "ftmp1=fft(tmp1)./50000;\n",
    "ftmp1[1]=0.;\n",
    "#@show kmax=findmax(abs.(ftmp)[1:200])\n",
    "#@show 77*2*3.1415/50.\n",
    "plot(abs.(ftmp1[1:1000]),xlabel=\"freq\",ylabel=\"Ey energy\",legend=false)\n",
    "#savefig(\"Ey_spectrum_dirac.png\")\n",
    "\n",
    "tmp1=frame[!,:PotentialEnergyE3];\n",
    "ftmp1=fft(tmp1)./50000;\n",
    "ftmp1[1]=0.;\n",
    "#@show kmax=findmax(abs.(ftmp)[1:200])\n",
    "#@show 77*2*3.1415/50.\n",
    "plot(abs.(ftmp1[1:1000]),xlabel=\"freq\",ylabel=\"Ez energy\",legend=false)\n",
    "#savefig(\"Ez_spectrum_dirac.png\")\n",
    "\n",
    "tmp1=frame[!,:PotentialEnergyB2];\n",
    "ftmp1=fft(tmp1)./50000;\n",
    "ftmp1[1]=0.;\n",
    "#@show kmax=findmax(abs.(ftmp)[1:200])\n",
    "#@show 77*2*3.1415/50.\n",
    "plot(abs.(ftmp1[1:1000]),xlabel=\"freq\",ylabel=\"By energy\",legend=false)\n",
    "#savefig(\"By_spectrum_dirac.png\")\n",
    "\n",
    "tmp1=frame[!,:PotentialEnergyB3];\n",
    "ftmp1=fft(tmp1)./50000;\n",
    "ftmp1[1]=0.;\n",
    "#@show kmax=findmax(abs.(ftmp)[1:200])\n",
    "#@show 77*2*3.1415/50.\n",
    "plot(abs.(ftmp1[1:1000]),xlabel=\"freq\",ylabel=\"Bz energy\",legend=false)\n",
    "#savefig(\"Bz_spectrum_dirac.png\")\n",
    "\n",
    "\n",
    "#Kineticspin,Momentum1,Momentum2,Momentum3,Momentum4,\n",
    "#Momentum5,Momentum6,Momentum7,PotentialEnergyE1,\n",
    "#PotentialEnergyE2,PotentialEnergyE3,PotentialEnergyB2,PotentialEnergyB3"
   ]
  },
  {
   "cell_type": "code",
   "execution_count": null,
   "metadata": {},
   "outputs": [],
   "source": [
    " "
   ]
  }
 ],
 "metadata": {
  "kernelspec": {
   "display_name": "Julia 1.3.0",
   "language": "julia",
   "name": "julia-1.3"
  },
  "language_info": {
   "file_extension": ".jl",
   "mimetype": "application/julia",
   "name": "julia",
   "version": "1.3.0"
  }
 },
 "nbformat": 4,
 "nbformat_minor": 4
}
